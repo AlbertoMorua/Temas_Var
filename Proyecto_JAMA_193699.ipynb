{
 "cells": [
  {
   "cell_type": "markdown",
   "metadata": {},
   "source": [
    "<h1 style=\"color:#872325\"> Proyecto Final Portafolios </h1>"
   ]
  },
  {
   "cell_type": "markdown",
   "metadata": {},
   "source": [
    "### Elaboró: Jorge Alberto Morúa Amaya\n",
    "### Clave: 193699\n",
    "### 22/06/2020"
   ]
  },
  {
   "cell_type": "markdown",
   "metadata": {},
   "source": [
    "El objetivo del examen final es construir un portafolio riesgoso con 7 acciones e invertir en un\n",
    "portafolio completo que maximice tu utilidad. Considera una tasa libre de riesgo de 5.0%, un premio\n",
    "por riesgo de mercado de 10.0% y un nivel de aversión al riesgo A=3"
   ]
  },
  {
   "cell_type": "markdown",
   "metadata": {},
   "source": [
    "## Librerias "
   ]
  },
  {
   "cell_type": "code",
   "execution_count": 1,
   "metadata": {},
   "outputs": [],
   "source": [
    "import pandas as pd\n",
    "import numpy as np\n",
    "import matplotlib.pyplot as plt\n",
    "import datetime\n",
    "from sklearn.linear_model import LinearRegression \n",
    "import statsmodels.api as sm\n",
    "import matplotlib.pyplot as plt\n",
    "import scipy.optimize as sco\n",
    "import scipy.interpolate as sci\n",
    "from scipy.stats import norm\n",
    "import random\n",
    "%matplotlib inline"
   ]
  },
  {
   "cell_type": "code",
   "execution_count": 2,
   "metadata": {},
   "outputs": [
    {
     "data": {
      "text/html": [
       "<div>\n",
       "<style scoped>\n",
       "    .dataframe tbody tr th:only-of-type {\n",
       "        vertical-align: middle;\n",
       "    }\n",
       "\n",
       "    .dataframe tbody tr th {\n",
       "        vertical-align: top;\n",
       "    }\n",
       "\n",
       "    .dataframe thead th {\n",
       "        text-align: right;\n",
       "    }\n",
       "</style>\n",
       "<table border=\"1\" class=\"dataframe\">\n",
       "  <thead>\n",
       "    <tr style=\"text-align: right;\">\n",
       "      <th></th>\n",
       "      <th>KIMBERA</th>\n",
       "      <th>GAPB</th>\n",
       "      <th>CEMEXCPO</th>\n",
       "      <th>ASURB</th>\n",
       "      <th>GFNORTEO</th>\n",
       "      <th>KOFUBL</th>\n",
       "      <th>AC</th>\n",
       "      <th>LABB</th>\n",
       "      <th>FEMSAUBD</th>\n",
       "      <th>OMAB</th>\n",
       "      <th>...</th>\n",
       "      <th>MEGACPO</th>\n",
       "      <th>GCC</th>\n",
       "      <th>BIMBOA</th>\n",
       "      <th>GMEXICOB</th>\n",
       "      <th>GCARSOA1</th>\n",
       "      <th>TLEVICPO</th>\n",
       "      <th>ALFAA</th>\n",
       "      <th>BSMXB</th>\n",
       "      <th>PINFRA</th>\n",
       "      <th>MEXBOL</th>\n",
       "    </tr>\n",
       "    <tr>\n",
       "      <th>DATE</th>\n",
       "      <th></th>\n",
       "      <th></th>\n",
       "      <th></th>\n",
       "      <th></th>\n",
       "      <th></th>\n",
       "      <th></th>\n",
       "      <th></th>\n",
       "      <th></th>\n",
       "      <th></th>\n",
       "      <th></th>\n",
       "      <th></th>\n",
       "      <th></th>\n",
       "      <th></th>\n",
       "      <th></th>\n",
       "      <th></th>\n",
       "      <th></th>\n",
       "      <th></th>\n",
       "      <th></th>\n",
       "      <th></th>\n",
       "      <th></th>\n",
       "      <th></th>\n",
       "    </tr>\n",
       "  </thead>\n",
       "  <tbody>\n",
       "    <tr>\n",
       "      <td>2016-01-01</td>\n",
       "      <td>40.37</td>\n",
       "      <td>152.05</td>\n",
       "      <td>8.72</td>\n",
       "      <td>243.89</td>\n",
       "      <td>94.99</td>\n",
       "      <td>123.90</td>\n",
       "      <td>104.68</td>\n",
       "      <td>13.85</td>\n",
       "      <td>161.63</td>\n",
       "      <td>83.61</td>\n",
       "      <td>...</td>\n",
       "      <td>64.19</td>\n",
       "      <td>44.81</td>\n",
       "      <td>45.95</td>\n",
       "      <td>36.79</td>\n",
       "      <td>70.98</td>\n",
       "      <td>94.34</td>\n",
       "      <td>34.10</td>\n",
       "      <td>30.25</td>\n",
       "      <td>202.73</td>\n",
       "      <td>42977.50</td>\n",
       "    </tr>\n",
       "    <tr>\n",
       "      <td>2016-01-04</td>\n",
       "      <td>39.16</td>\n",
       "      <td>148.57</td>\n",
       "      <td>8.43</td>\n",
       "      <td>238.29</td>\n",
       "      <td>91.79</td>\n",
       "      <td>120.29</td>\n",
       "      <td>102.09</td>\n",
       "      <td>14.41</td>\n",
       "      <td>157.62</td>\n",
       "      <td>81.77</td>\n",
       "      <td>...</td>\n",
       "      <td>64.45</td>\n",
       "      <td>43.51</td>\n",
       "      <td>45.02</td>\n",
       "      <td>35.71</td>\n",
       "      <td>69.83</td>\n",
       "      <td>92.62</td>\n",
       "      <td>33.74</td>\n",
       "      <td>29.46</td>\n",
       "      <td>202.93</td>\n",
       "      <td>42113.70</td>\n",
       "    </tr>\n",
       "    <tr>\n",
       "      <td>2016-01-05</td>\n",
       "      <td>38.89</td>\n",
       "      <td>147.93</td>\n",
       "      <td>8.31</td>\n",
       "      <td>233.03</td>\n",
       "      <td>91.72</td>\n",
       "      <td>118.82</td>\n",
       "      <td>101.12</td>\n",
       "      <td>13.77</td>\n",
       "      <td>157.80</td>\n",
       "      <td>81.58</td>\n",
       "      <td>...</td>\n",
       "      <td>63.16</td>\n",
       "      <td>43.51</td>\n",
       "      <td>45.77</td>\n",
       "      <td>36.45</td>\n",
       "      <td>70.70</td>\n",
       "      <td>91.89</td>\n",
       "      <td>33.99</td>\n",
       "      <td>29.72</td>\n",
       "      <td>203.56</td>\n",
       "      <td>42041.68</td>\n",
       "    </tr>\n",
       "    <tr>\n",
       "      <td>2016-01-06</td>\n",
       "      <td>39.13</td>\n",
       "      <td>146.99</td>\n",
       "      <td>8.29</td>\n",
       "      <td>231.97</td>\n",
       "      <td>91.63</td>\n",
       "      <td>120.32</td>\n",
       "      <td>102.50</td>\n",
       "      <td>13.65</td>\n",
       "      <td>156.37</td>\n",
       "      <td>82.03</td>\n",
       "      <td>...</td>\n",
       "      <td>63.27</td>\n",
       "      <td>43.51</td>\n",
       "      <td>45.97</td>\n",
       "      <td>35.57</td>\n",
       "      <td>70.47</td>\n",
       "      <td>90.41</td>\n",
       "      <td>33.65</td>\n",
       "      <td>29.67</td>\n",
       "      <td>199.80</td>\n",
       "      <td>41691.19</td>\n",
       "    </tr>\n",
       "    <tr>\n",
       "      <td>2016-01-07</td>\n",
       "      <td>39.16</td>\n",
       "      <td>141.32</td>\n",
       "      <td>7.64</td>\n",
       "      <td>230.71</td>\n",
       "      <td>89.54</td>\n",
       "      <td>120.20</td>\n",
       "      <td>101.16</td>\n",
       "      <td>13.25</td>\n",
       "      <td>155.14</td>\n",
       "      <td>80.94</td>\n",
       "      <td>...</td>\n",
       "      <td>62.78</td>\n",
       "      <td>42.76</td>\n",
       "      <td>46.18</td>\n",
       "      <td>35.01</td>\n",
       "      <td>68.15</td>\n",
       "      <td>90.23</td>\n",
       "      <td>31.46</td>\n",
       "      <td>28.50</td>\n",
       "      <td>196.75</td>\n",
       "      <td>40661.57</td>\n",
       "    </tr>\n",
       "  </tbody>\n",
       "</table>\n",
       "<p>5 rows × 36 columns</p>\n",
       "</div>"
      ],
      "text/plain": [
       "            KIMBERA    GAPB  CEMEXCPO   ASURB  GFNORTEO  KOFUBL      AC  \\\n",
       "DATE                                                                      \n",
       "2016-01-01    40.37  152.05      8.72  243.89     94.99  123.90  104.68   \n",
       "2016-01-04    39.16  148.57      8.43  238.29     91.79  120.29  102.09   \n",
       "2016-01-05    38.89  147.93      8.31  233.03     91.72  118.82  101.12   \n",
       "2016-01-06    39.13  146.99      8.29  231.97     91.63  120.32  102.50   \n",
       "2016-01-07    39.16  141.32      7.64  230.71     89.54  120.20  101.16   \n",
       "\n",
       "             LABB  FEMSAUBD   OMAB  ...  MEGACPO    GCC  BIMBOA  GMEXICOB  \\\n",
       "DATE                                ...                                     \n",
       "2016-01-01  13.85    161.63  83.61  ...    64.19  44.81   45.95     36.79   \n",
       "2016-01-04  14.41    157.62  81.77  ...    64.45  43.51   45.02     35.71   \n",
       "2016-01-05  13.77    157.80  81.58  ...    63.16  43.51   45.77     36.45   \n",
       "2016-01-06  13.65    156.37  82.03  ...    63.27  43.51   45.97     35.57   \n",
       "2016-01-07  13.25    155.14  80.94  ...    62.78  42.76   46.18     35.01   \n",
       "\n",
       "            GCARSOA1  TLEVICPO  ALFAA  BSMXB  PINFRA    MEXBOL  \n",
       "DATE                                                            \n",
       "2016-01-01     70.98     94.34  34.10  30.25  202.73  42977.50  \n",
       "2016-01-04     69.83     92.62  33.74  29.46  202.93  42113.70  \n",
       "2016-01-05     70.70     91.89  33.99  29.72  203.56  42041.68  \n",
       "2016-01-06     70.47     90.41  33.65  29.67  199.80  41691.19  \n",
       "2016-01-07     68.15     90.23  31.46  28.50  196.75  40661.57  \n",
       "\n",
       "[5 rows x 36 columns]"
      ]
     },
     "execution_count": 2,
     "metadata": {},
     "output_type": "execute_result"
    }
   ],
   "source": [
    "#cargamos el archivo con la informacion del IPC\n",
    "#leemos el archivo\n",
    "ipc_path = \"ipc.xlsx\" # Modificar a ruta\n",
    "market = pd.read_excel(ipc_path, index_col=0)\n",
    "market.columns = [c.replace(\" MF Equity\", \"\").replace(\" INDEX\", \"\").replace(\"*\",\"\") for c in market]\n",
    "market.head()"
   ]
  },
  {
   "cell_type": "code",
   "execution_count": 3,
   "metadata": {},
   "outputs": [
    {
     "data": {
      "text/plain": [
       "Index(['KIMBERA', 'GAPB', 'CEMEXCPO', 'ASURB', 'GFNORTEO', 'KOFUBL', 'AC',\n",
       "       'LABB', 'FEMSAUBD', 'OMAB', 'GFINBURO', 'AMXL', 'ALSEA', 'ORBIA',\n",
       "       'PE&OLES', 'GRUMAB', 'RA', 'WALMEX', 'BOLSAA', 'LIVEPOLC', 'GENTERA',\n",
       "       'IENOVA', 'CUERVO', 'ELEKTRA', 'BBAJIOO', 'ALPEKA', 'MEGACPO', 'GCC',\n",
       "       'BIMBOA', 'GMEXICOB', 'GCARSOA1', 'TLEVICPO', 'ALFAA', 'BSMXB',\n",
       "       'PINFRA', 'MEXBOL'],\n",
       "      dtype='object')"
      ]
     },
     "execution_count": 3,
     "metadata": {},
     "output_type": "execute_result"
    }
   ],
   "source": [
    "market.columns"
   ]
  },
  {
   "cell_type": "code",
   "execution_count": 4,
   "metadata": {},
   "outputs": [
    {
     "data": {
      "text/html": [
       "<div>\n",
       "<style scoped>\n",
       "    .dataframe tbody tr th:only-of-type {\n",
       "        vertical-align: middle;\n",
       "    }\n",
       "\n",
       "    .dataframe tbody tr th {\n",
       "        vertical-align: top;\n",
       "    }\n",
       "\n",
       "    .dataframe thead th {\n",
       "        text-align: right;\n",
       "    }\n",
       "</style>\n",
       "<table border=\"1\" class=\"dataframe\">\n",
       "  <thead>\n",
       "    <tr style=\"text-align: right;\">\n",
       "      <th></th>\n",
       "      <th>ALSEA</th>\n",
       "      <th>WALMEX</th>\n",
       "      <th>LIVEPOLC</th>\n",
       "      <th>GENTERA</th>\n",
       "      <th>ELEKTRA</th>\n",
       "      <th>MEGACPO</th>\n",
       "      <th>GCARSOA1</th>\n",
       "      <th>MEXBOL</th>\n",
       "    </tr>\n",
       "    <tr>\n",
       "      <th>DATE</th>\n",
       "      <th></th>\n",
       "      <th></th>\n",
       "      <th></th>\n",
       "      <th></th>\n",
       "      <th></th>\n",
       "      <th></th>\n",
       "      <th></th>\n",
       "      <th></th>\n",
       "    </tr>\n",
       "  </thead>\n",
       "  <tbody>\n",
       "    <tr>\n",
       "      <td>2016-01-01</td>\n",
       "      <td>59.85</td>\n",
       "      <td>43.49</td>\n",
       "      <td>210.11</td>\n",
       "      <td>33.35</td>\n",
       "      <td>379.04</td>\n",
       "      <td>64.19</td>\n",
       "      <td>70.98</td>\n",
       "      <td>42977.50</td>\n",
       "    </tr>\n",
       "    <tr>\n",
       "      <td>2016-01-04</td>\n",
       "      <td>58.93</td>\n",
       "      <td>42.84</td>\n",
       "      <td>209.83</td>\n",
       "      <td>31.80</td>\n",
       "      <td>368.42</td>\n",
       "      <td>64.45</td>\n",
       "      <td>69.83</td>\n",
       "      <td>42113.70</td>\n",
       "    </tr>\n",
       "    <tr>\n",
       "      <td>2016-01-05</td>\n",
       "      <td>59.41</td>\n",
       "      <td>42.66</td>\n",
       "      <td>210.42</td>\n",
       "      <td>32.16</td>\n",
       "      <td>357.30</td>\n",
       "      <td>63.16</td>\n",
       "      <td>70.70</td>\n",
       "      <td>42041.68</td>\n",
       "    </tr>\n",
       "    <tr>\n",
       "      <td>2016-01-06</td>\n",
       "      <td>59.19</td>\n",
       "      <td>42.38</td>\n",
       "      <td>206.98</td>\n",
       "      <td>31.89</td>\n",
       "      <td>342.66</td>\n",
       "      <td>63.27</td>\n",
       "      <td>70.47</td>\n",
       "      <td>41691.19</td>\n",
       "    </tr>\n",
       "    <tr>\n",
       "      <td>2016-01-07</td>\n",
       "      <td>56.93</td>\n",
       "      <td>39.99</td>\n",
       "      <td>209.60</td>\n",
       "      <td>30.59</td>\n",
       "      <td>334.15</td>\n",
       "      <td>62.78</td>\n",
       "      <td>68.15</td>\n",
       "      <td>40661.57</td>\n",
       "    </tr>\n",
       "  </tbody>\n",
       "</table>\n",
       "</div>"
      ],
      "text/plain": [
       "            ALSEA  WALMEX  LIVEPOLC  GENTERA  ELEKTRA  MEGACPO  GCARSOA1  \\\n",
       "DATE                                                                       \n",
       "2016-01-01  59.85   43.49    210.11    33.35   379.04    64.19     70.98   \n",
       "2016-01-04  58.93   42.84    209.83    31.80   368.42    64.45     69.83   \n",
       "2016-01-05  59.41   42.66    210.42    32.16   357.30    63.16     70.70   \n",
       "2016-01-06  59.19   42.38    206.98    31.89   342.66    63.27     70.47   \n",
       "2016-01-07  56.93   39.99    209.60    30.59   334.15    62.78     68.15   \n",
       "\n",
       "              MEXBOL  \n",
       "DATE                  \n",
       "2016-01-01  42977.50  \n",
       "2016-01-04  42113.70  \n",
       "2016-01-05  42041.68  \n",
       "2016-01-06  41691.19  \n",
       "2016-01-07  40661.57  "
      ]
     },
     "execution_count": 4,
     "metadata": {},
     "output_type": "execute_result"
    }
   ],
   "source": [
    "#obtenemos solo las 7 columnas de las empresas que vamos a analizar\n",
    "p_7prod = market[['ALSEA','WALMEX','LIVEPOLC','GENTERA','ELEKTRA','MEGACPO','GCARSOA1','MEXBOL']]\n",
    "#p_7prod = market[['ASURB','GFNORTEO','PE&OLES','WALMEX','IENOVA','MEXBOL']]\n",
    "p_7prod.head()"
   ]
  },
  {
   "cell_type": "code",
   "execution_count": 5,
   "metadata": {},
   "outputs": [
    {
     "data": {
      "text/html": [
       "<div>\n",
       "<style scoped>\n",
       "    .dataframe tbody tr th:only-of-type {\n",
       "        vertical-align: middle;\n",
       "    }\n",
       "\n",
       "    .dataframe tbody tr th {\n",
       "        vertical-align: top;\n",
       "    }\n",
       "\n",
       "    .dataframe thead th {\n",
       "        text-align: right;\n",
       "    }\n",
       "</style>\n",
       "<table border=\"1\" class=\"dataframe\">\n",
       "  <thead>\n",
       "    <tr style=\"text-align: right;\">\n",
       "      <th></th>\n",
       "      <th>ALSEA</th>\n",
       "      <th>WALMEX</th>\n",
       "      <th>LIVEPOLC</th>\n",
       "      <th>GENTERA</th>\n",
       "      <th>ELEKTRA</th>\n",
       "      <th>MEGACPO</th>\n",
       "      <th>GCARSOA1</th>\n",
       "      <th>MEXBOL</th>\n",
       "    </tr>\n",
       "    <tr>\n",
       "      <th>DATE</th>\n",
       "      <th></th>\n",
       "      <th></th>\n",
       "      <th></th>\n",
       "      <th></th>\n",
       "      <th></th>\n",
       "      <th></th>\n",
       "      <th></th>\n",
       "      <th></th>\n",
       "    </tr>\n",
       "  </thead>\n",
       "  <tbody>\n",
       "    <tr>\n",
       "      <td>2016-01-04</td>\n",
       "      <td>-0.015372</td>\n",
       "      <td>-0.014946</td>\n",
       "      <td>-0.001333</td>\n",
       "      <td>-0.046477</td>\n",
       "      <td>-0.028018</td>\n",
       "      <td>0.004050</td>\n",
       "      <td>-0.016202</td>\n",
       "      <td>-0.020099</td>\n",
       "    </tr>\n",
       "    <tr>\n",
       "      <td>2016-01-05</td>\n",
       "      <td>0.008145</td>\n",
       "      <td>-0.004202</td>\n",
       "      <td>0.002812</td>\n",
       "      <td>0.011321</td>\n",
       "      <td>-0.030183</td>\n",
       "      <td>-0.020016</td>\n",
       "      <td>0.012459</td>\n",
       "      <td>-0.001710</td>\n",
       "    </tr>\n",
       "    <tr>\n",
       "      <td>2016-01-06</td>\n",
       "      <td>-0.003703</td>\n",
       "      <td>-0.006564</td>\n",
       "      <td>-0.016348</td>\n",
       "      <td>-0.008396</td>\n",
       "      <td>-0.040974</td>\n",
       "      <td>0.001742</td>\n",
       "      <td>-0.003253</td>\n",
       "      <td>-0.008337</td>\n",
       "    </tr>\n",
       "    <tr>\n",
       "      <td>2016-01-07</td>\n",
       "      <td>-0.038182</td>\n",
       "      <td>-0.056395</td>\n",
       "      <td>0.012658</td>\n",
       "      <td>-0.040765</td>\n",
       "      <td>-0.024835</td>\n",
       "      <td>-0.007745</td>\n",
       "      <td>-0.032922</td>\n",
       "      <td>-0.024696</td>\n",
       "    </tr>\n",
       "    <tr>\n",
       "      <td>2016-01-08</td>\n",
       "      <td>-0.003337</td>\n",
       "      <td>0.026007</td>\n",
       "      <td>-0.005582</td>\n",
       "      <td>-0.002288</td>\n",
       "      <td>-0.013617</td>\n",
       "      <td>0.000796</td>\n",
       "      <td>-0.000587</td>\n",
       "      <td>-0.009744</td>\n",
       "    </tr>\n",
       "  </tbody>\n",
       "</table>\n",
       "</div>"
      ],
      "text/plain": [
       "               ALSEA    WALMEX  LIVEPOLC   GENTERA   ELEKTRA   MEGACPO  \\\n",
       "DATE                                                                     \n",
       "2016-01-04 -0.015372 -0.014946 -0.001333 -0.046477 -0.028018  0.004050   \n",
       "2016-01-05  0.008145 -0.004202  0.002812  0.011321 -0.030183 -0.020016   \n",
       "2016-01-06 -0.003703 -0.006564 -0.016348 -0.008396 -0.040974  0.001742   \n",
       "2016-01-07 -0.038182 -0.056395  0.012658 -0.040765 -0.024835 -0.007745   \n",
       "2016-01-08 -0.003337  0.026007 -0.005582 -0.002288 -0.013617  0.000796   \n",
       "\n",
       "            GCARSOA1    MEXBOL  \n",
       "DATE                            \n",
       "2016-01-04 -0.016202 -0.020099  \n",
       "2016-01-05  0.012459 -0.001710  \n",
       "2016-01-06 -0.003253 -0.008337  \n",
       "2016-01-07 -0.032922 -0.024696  \n",
       "2016-01-08 -0.000587 -0.009744  "
      ]
     },
     "execution_count": 5,
     "metadata": {},
     "output_type": "execute_result"
    }
   ],
   "source": [
    "#obtenemos la base con los rendimientos \n",
    "df_rend = p_7prod / p_7prod.shift(periods=1) - 1\n",
    "df_rend.index = pd.to_datetime(df_rend.index)\n",
    "df_rend = df_rend.drop(df_rend.index[0],axis=0)\n",
    "df_rend.head()"
   ]
  },
  {
   "cell_type": "code",
   "execution_count": 6,
   "metadata": {},
   "outputs": [
    {
     "data": {
      "text/plain": [
       "array([[<matplotlib.axes._subplots.AxesSubplot object at 0x0000010E891A63C8>,\n",
       "        <matplotlib.axes._subplots.AxesSubplot object at 0x0000010E88894308>,\n",
       "        <matplotlib.axes._subplots.AxesSubplot object at 0x0000010E892143C8>],\n",
       "       [<matplotlib.axes._subplots.AxesSubplot object at 0x0000010E893B7708>,\n",
       "        <matplotlib.axes._subplots.AxesSubplot object at 0x0000010E89437B08>,\n",
       "        <matplotlib.axes._subplots.AxesSubplot object at 0x0000010E8980DC48>],\n",
       "       [<matplotlib.axes._subplots.AxesSubplot object at 0x0000010E89846D48>,\n",
       "        <matplotlib.axes._subplots.AxesSubplot object at 0x0000010E8987CE08>,\n",
       "        <matplotlib.axes._subplots.AxesSubplot object at 0x0000010E89887A08>]],\n",
       "      dtype=object)"
      ]
     },
     "execution_count": 6,
     "metadata": {},
     "output_type": "execute_result"
    },
    {
     "data": {
      "image/png": "[encoded data removed]",
      "text/plain": [
       "<Figure size 1080x720 with 9 Axes>"
      ]
     },
     "metadata": {
      "needs_background": "light"
     },
     "output_type": "display_data"
    }
   ],
   "source": [
    "df_rend.hist(bins=50, figsize=(15, 10))"
   ]
  },
  {
   "cell_type": "markdown",
   "metadata": {},
   "source": [
    "# 1.- Rendimiento esperado diario y anual"
   ]
  },
  {
   "cell_type": "markdown",
   "metadata": {},
   "source": [
    "## Modelo de Rendimiento promedio constante"
   ]
  },
  {
   "cell_type": "code",
   "execution_count": 7,
   "metadata": {},
   "outputs": [],
   "source": [
    "#tasa libre de riesgo\n",
    "rf = 0.05 \n",
    "#premio por riesgo de mercado\n",
    "market = .10\n",
    "#Aversion al riesgo\n",
    "A=3"
   ]
  },
  {
   "cell_type": "code",
   "execution_count": 8,
   "metadata": {},
   "outputs": [
    {
     "data": {
      "text/plain": [
       "ALSEA      -0.001872\n",
       "WALMEX      0.032709\n",
       "LIVEPOLC   -0.059259\n",
       "GENTERA    -0.028425\n",
       "ELEKTRA     0.145545\n",
       "MEGACPO     0.027426\n",
       "GCARSOA1    0.022405\n",
       "MEXBOL      0.007144\n",
       "dtype: float64"
      ]
     },
     "execution_count": 8,
     "metadata": {},
     "output_type": "execute_result"
    }
   ],
   "source": [
    "#Obtenemos el rendimiento esperado diario\n",
    "rend_diario = df_rend.mean()\n",
    "rend_diario *100"
   ]
  },
  {
   "cell_type": "code",
   "execution_count": 9,
   "metadata": {},
   "outputs": [
    {
     "data": {
      "text/plain": [
       "ALSEA       -0.471813\n",
       "WALMEX       8.242580\n",
       "LIVEPOLC   -14.933242\n",
       "GENTERA     -7.163028\n",
       "ELEKTRA     36.677386\n",
       "MEGACPO      6.911256\n",
       "GCARSOA1     5.646045\n",
       "MEXBOL       1.800402\n",
       "dtype: float64"
      ]
     },
     "execution_count": 9,
     "metadata": {},
     "output_type": "execute_result"
    }
   ],
   "source": [
    "#Obtenemos el rendimiento esperado anual \n",
    "rend_anual = rend_diario * 252\n",
    "rend_anual * 100"
   ]
  },
  {
   "cell_type": "code",
   "execution_count": 10,
   "metadata": {},
   "outputs": [
    {
     "data": {
      "text/plain": [
       "ALSEA       0.023536\n",
       "WALMEX      0.021517\n",
       "LIVEPOLC    0.025872\n",
       "GENTERA     0.042538\n",
       "ELEKTRA     0.042831\n",
       "MEGACPO     0.019039\n",
       "GCARSOA1    0.036081\n",
       "MEXBOL      0.007074\n",
       "dtype: float64"
      ]
     },
     "execution_count": 10,
     "metadata": {},
     "output_type": "execute_result"
    }
   ],
   "source": [
    "#obtenemos la varianza diaria\n",
    "var_diario = df_rend.var()\n",
    "var_diario * 100"
   ]
  },
  {
   "cell_type": "code",
   "execution_count": 11,
   "metadata": {},
   "outputs": [
    {
     "data": {
      "text/plain": [
       "ALSEA        5.931130\n",
       "WALMEX       5.422218\n",
       "LIVEPOLC     6.519680\n",
       "GENTERA     10.719646\n",
       "ELEKTRA     10.793488\n",
       "MEGACPO      4.797922\n",
       "GCARSOA1     9.092441\n",
       "MEXBOL       1.782711\n",
       "dtype: float64"
      ]
     },
     "execution_count": 11,
     "metadata": {},
     "output_type": "execute_result"
    }
   ],
   "source": [
    "#obtenemos la varianza anual\n",
    "var_anual = var_diario * 252\n",
    "var_anual * 100"
   ]
  },
  {
   "cell_type": "code",
   "execution_count": 12,
   "metadata": {},
   "outputs": [
    {
     "data": {
      "text/plain": [
       "ALSEA       1.534152\n",
       "WALMEX      1.466858\n",
       "LIVEPOLC    1.608470\n",
       "GENTERA     2.062481\n",
       "ELEKTRA     2.069572\n",
       "MEGACPO     1.379832\n",
       "GCARSOA1    1.899503\n",
       "MEXBOL      0.841086\n",
       "dtype: float64"
      ]
     },
     "execution_count": 12,
     "metadata": {},
     "output_type": "execute_result"
    }
   ],
   "source": [
    "#obtenemos la desviacion diaria\n",
    "desv_diaria =  np.sqrt(var_diario)\n",
    "desv_diaria * 100"
   ]
  },
  {
   "cell_type": "code",
   "execution_count": 13,
   "metadata": {},
   "outputs": [
    {
     "data": {
      "text/plain": [
       "ALSEA       386.606368\n",
       "WALMEX      369.648324\n",
       "LIVEPOLC    405.334357\n",
       "GENTERA     519.745214\n",
       "ELEKTRA     521.532257\n",
       "MEGACPO     347.717757\n",
       "GCARSOA1    478.674758\n",
       "MEXBOL      211.953555\n",
       "dtype: float64"
      ]
     },
     "execution_count": 13,
     "metadata": {},
     "output_type": "execute_result"
    }
   ],
   "source": [
    "#obtenemos la desviacion anual\n",
    "desv_anual = desv_diaria * 252\n",
    "desv_anual * 100"
   ]
  },
  {
   "cell_type": "markdown",
   "metadata": {},
   "source": [
    "## Modelo CAPM"
   ]
  },
  {
   "cell_type": "code",
   "execution_count": 14,
   "metadata": {},
   "outputs": [
    {
     "data": {
      "text/html": [
       "<div>\n",
       "<style scoped>\n",
       "    .dataframe tbody tr th:only-of-type {\n",
       "        vertical-align: middle;\n",
       "    }\n",
       "\n",
       "    .dataframe tbody tr th {\n",
       "        vertical-align: top;\n",
       "    }\n",
       "\n",
       "    .dataframe thead th {\n",
       "        text-align: right;\n",
       "    }\n",
       "</style>\n",
       "<table border=\"1\" class=\"dataframe\">\n",
       "  <thead>\n",
       "    <tr style=\"text-align: right;\">\n",
       "      <th></th>\n",
       "      <th>ALSEA</th>\n",
       "      <th>WALMEX</th>\n",
       "      <th>LIVEPOLC</th>\n",
       "      <th>GENTERA</th>\n",
       "      <th>ELEKTRA</th>\n",
       "      <th>MEGACPO</th>\n",
       "      <th>GCARSOA1</th>\n",
       "      <th>MEXBOL</th>\n",
       "    </tr>\n",
       "    <tr>\n",
       "      <th>DATE</th>\n",
       "      <th></th>\n",
       "      <th></th>\n",
       "      <th></th>\n",
       "      <th></th>\n",
       "      <th></th>\n",
       "      <th></th>\n",
       "      <th></th>\n",
       "      <th></th>\n",
       "    </tr>\n",
       "  </thead>\n",
       "  <tbody>\n",
       "    <tr>\n",
       "      <td>2016-01-04</td>\n",
       "      <td>-0.015491</td>\n",
       "      <td>-0.015059</td>\n",
       "      <td>-0.001334</td>\n",
       "      <td>-0.047591</td>\n",
       "      <td>-0.028418</td>\n",
       "      <td>0.004042</td>\n",
       "      <td>-0.016334</td>\n",
       "      <td>-0.020304</td>\n",
       "    </tr>\n",
       "    <tr>\n",
       "      <td>2016-01-05</td>\n",
       "      <td>0.008112</td>\n",
       "      <td>-0.004211</td>\n",
       "      <td>0.002808</td>\n",
       "      <td>0.011257</td>\n",
       "      <td>-0.030648</td>\n",
       "      <td>-0.020219</td>\n",
       "      <td>0.012382</td>\n",
       "      <td>-0.001712</td>\n",
       "    </tr>\n",
       "    <tr>\n",
       "      <td>2016-01-06</td>\n",
       "      <td>-0.003710</td>\n",
       "      <td>-0.006585</td>\n",
       "      <td>-0.016483</td>\n",
       "      <td>-0.008431</td>\n",
       "      <td>-0.041837</td>\n",
       "      <td>0.001740</td>\n",
       "      <td>-0.003258</td>\n",
       "      <td>-0.008372</td>\n",
       "    </tr>\n",
       "    <tr>\n",
       "      <td>2016-01-07</td>\n",
       "      <td>-0.038930</td>\n",
       "      <td>-0.058047</td>\n",
       "      <td>0.012579</td>\n",
       "      <td>-0.041619</td>\n",
       "      <td>-0.025149</td>\n",
       "      <td>-0.007775</td>\n",
       "      <td>-0.033476</td>\n",
       "      <td>-0.025006</td>\n",
       "    </tr>\n",
       "    <tr>\n",
       "      <td>2016-01-08</td>\n",
       "      <td>-0.003343</td>\n",
       "      <td>0.025674</td>\n",
       "      <td>-0.005598</td>\n",
       "      <td>-0.002291</td>\n",
       "      <td>-0.013710</td>\n",
       "      <td>0.000796</td>\n",
       "      <td>-0.000587</td>\n",
       "      <td>-0.009792</td>\n",
       "    </tr>\n",
       "    <tr>\n",
       "      <td>...</td>\n",
       "      <td>...</td>\n",
       "      <td>...</td>\n",
       "      <td>...</td>\n",
       "      <td>...</td>\n",
       "      <td>...</td>\n",
       "      <td>...</td>\n",
       "      <td>...</td>\n",
       "      <td>...</td>\n",
       "    </tr>\n",
       "    <tr>\n",
       "      <td>2019-12-30</td>\n",
       "      <td>-0.008767</td>\n",
       "      <td>-0.026591</td>\n",
       "      <td>-0.012717</td>\n",
       "      <td>-0.020276</td>\n",
       "      <td>0.003906</td>\n",
       "      <td>0.000000</td>\n",
       "      <td>-0.008985</td>\n",
       "      <td>-0.013741</td>\n",
       "    </tr>\n",
       "    <tr>\n",
       "      <td>2019-12-31</td>\n",
       "      <td>-0.002806</td>\n",
       "      <td>-0.000554</td>\n",
       "      <td>-0.023050</td>\n",
       "      <td>0.022333</td>\n",
       "      <td>-0.001440</td>\n",
       "      <td>0.002845</td>\n",
       "      <td>0.000286</td>\n",
       "      <td>-0.002671</td>\n",
       "    </tr>\n",
       "    <tr>\n",
       "      <td>2020-01-01</td>\n",
       "      <td>0.000000</td>\n",
       "      <td>0.000000</td>\n",
       "      <td>0.000000</td>\n",
       "      <td>0.000000</td>\n",
       "      <td>0.000000</td>\n",
       "      <td>0.000000</td>\n",
       "      <td>0.000000</td>\n",
       "      <td>0.000000</td>\n",
       "    </tr>\n",
       "    <tr>\n",
       "      <td>2020-01-02</td>\n",
       "      <td>0.032576</td>\n",
       "      <td>0.017755</td>\n",
       "      <td>0.032474</td>\n",
       "      <td>0.028855</td>\n",
       "      <td>-0.000627</td>\n",
       "      <td>0.000387</td>\n",
       "      <td>0.056657</td>\n",
       "      <td>0.020374</td>\n",
       "    </tr>\n",
       "    <tr>\n",
       "      <td>2020-01-03</td>\n",
       "      <td>0.007933</td>\n",
       "      <td>-0.007832</td>\n",
       "      <td>0.017573</td>\n",
       "      <td>-0.010030</td>\n",
       "      <td>-0.002685</td>\n",
       "      <td>-0.000646</td>\n",
       "      <td>0.005803</td>\n",
       "      <td>0.004213</td>\n",
       "    </tr>\n",
       "  </tbody>\n",
       "</table>\n",
       "<p>1045 rows × 8 columns</p>\n",
       "</div>"
      ],
      "text/plain": [
       "               ALSEA    WALMEX  LIVEPOLC   GENTERA   ELEKTRA   MEGACPO  \\\n",
       "DATE                                                                     \n",
       "2016-01-04 -0.015491 -0.015059 -0.001334 -0.047591 -0.028418  0.004042   \n",
       "2016-01-05  0.008112 -0.004211  0.002808  0.011257 -0.030648 -0.020219   \n",
       "2016-01-06 -0.003710 -0.006585 -0.016483 -0.008431 -0.041837  0.001740   \n",
       "2016-01-07 -0.038930 -0.058047  0.012579 -0.041619 -0.025149 -0.007775   \n",
       "2016-01-08 -0.003343  0.025674 -0.005598 -0.002291 -0.013710  0.000796   \n",
       "...              ...       ...       ...       ...       ...       ...   \n",
       "2019-12-30 -0.008767 -0.026591 -0.012717 -0.020276  0.003906  0.000000   \n",
       "2019-12-31 -0.002806 -0.000554 -0.023050  0.022333 -0.001440  0.002845   \n",
       "2020-01-01  0.000000  0.000000  0.000000  0.000000  0.000000  0.000000   \n",
       "2020-01-02  0.032576  0.017755  0.032474  0.028855 -0.000627  0.000387   \n",
       "2020-01-03  0.007933 -0.007832  0.017573 -0.010030 -0.002685 -0.000646   \n",
       "\n",
       "            GCARSOA1    MEXBOL  \n",
       "DATE                            \n",
       "2016-01-04 -0.016334 -0.020304  \n",
       "2016-01-05  0.012382 -0.001712  \n",
       "2016-01-06 -0.003258 -0.008372  \n",
       "2016-01-07 -0.033476 -0.025006  \n",
       "2016-01-08 -0.000587 -0.009792  \n",
       "...              ...       ...  \n",
       "2019-12-30 -0.008985 -0.013741  \n",
       "2019-12-31  0.000286 -0.002671  \n",
       "2020-01-01  0.000000  0.000000  \n",
       "2020-01-02  0.056657  0.020374  \n",
       "2020-01-03  0.005803  0.004213  \n",
       "\n",
       "[1045 rows x 8 columns]"
      ]
     },
     "execution_count": 14,
     "metadata": {},
     "output_type": "execute_result"
    }
   ],
   "source": [
    "# obtenemos los rendimientos bajo el metodo CAPM\n",
    "rets = np.log(p_7prod / p_7prod.shift(1))\n",
    "rets = rets.drop(rets.index[0],axis=0)\n",
    "#Eliminamos la columna de MEXBOX\n",
    "rets"
   ]
  },
  {
   "cell_type": "code",
   "execution_count": 15,
   "metadata": {},
   "outputs": [
    {
     "name": "stdout",
     "output_type": "stream",
     "text": [
      "El rendimiento diario de cada accion es: \n",
      "ALSEA      -0.000137\n",
      "WALMEX      0.000219\n",
      "LIVEPOLC   -0.000723\n",
      "GENTERA    -0.000497\n",
      "ELEKTRA     0.001239\n",
      "MEGACPO     0.000179\n",
      "GCARSOA1    0.000044\n",
      "MEXBOL      0.000036\n",
      "dtype: float64\n",
      "--------------------------------------------------\n",
      "Los rendimientos anuales de cada accion son: \n",
      "ALSEA      -0.034416\n",
      "WALMEX      0.055259\n",
      "LIVEPOLC   -0.182101\n",
      "GENTERA    -0.125242\n",
      "ELEKTRA     0.312267\n",
      "MEGACPO     0.045191\n",
      "GCARSOA1    0.011088\n",
      "MEXBOL      0.009071\n",
      "dtype: float64\n"
     ]
    }
   ],
   "source": [
    "#Rendimientos diarios y anuales\n",
    "rets_diario = rets.mean()\n",
    "rets_anual = rets.mean() * 252\n",
    "print(\"El rendimiento diario de cada accion es: \")\n",
    "print(rets_diario)\n",
    "print(\"-\"*50)\n",
    "print(\"Los rendimientos anuales de cada accion son: \")\n",
    "print(rets_anual)"
   ]
  },
  {
   "cell_type": "markdown",
   "metadata": {},
   "source": [
    "¿Cual es la beta de cada accion ?"
   ]
  },
  {
   "cell_type": "code",
   "execution_count": 16,
   "metadata": {},
   "outputs": [
    {
     "data": {
      "text/plain": [
       "8"
      ]
     },
     "execution_count": 16,
     "metadata": {},
     "output_type": "execute_result"
    }
   ],
   "source": [
    "#Obtenemos la lista de las acciones\n",
    "df_col = rets.columns\n",
    "noa = len(df_col)\n",
    "noa"
   ]
  },
  {
   "cell_type": "code",
   "execution_count": 17,
   "metadata": {},
   "outputs": [],
   "source": [
    "def get_linReg(x,y):\n",
    "    \"\"\"\n",
    "    Funcion para obtener la regresion lineal y obtener los valores de las beta \n",
    "    x = Variable independiente\n",
    "    y = Variable dependiente\n",
    "    \"\"\"\n",
    "    # creamos una instancia de LinearRegression\n",
    "    regresion_lineal = LinearRegression() \n",
    "    # instruimos a la regresión lineal que aprenda de los datos (x,y)\n",
    "    regresion_lineal.fit(x,y) \n",
    "    return regresion_lineal.coef_[0][0]"
   ]
  },
  {
   "cell_type": "code",
   "execution_count": 18,
   "metadata": {},
   "outputs": [
    {
     "name": "stdout",
     "output_type": "stream",
     "text": [
      "Las betas obtenidas son:\n"
     ]
    },
    {
     "data": {
      "text/plain": [
       "[0.8272279570389357,\n",
       " 0.8915984490666613,\n",
       " 1.0029318774819267,\n",
       " 1.0106473333911692,\n",
       " 0.3782192341972521,\n",
       " 0.4041981292722522,\n",
       " 1.0848765106386307,\n",
       " 1.0]"
      ]
     },
     "execution_count": 18,
     "metadata": {},
     "output_type": "execute_result"
    }
   ],
   "source": [
    "# obtenemos la lista de las betas deacuerdo al orden de la lista de las columnas \"df_col\"\n",
    "ls_betas = []\n",
    "ls_tipo_accion = []\n",
    "for col in df_col:\n",
    "    b = get_linReg(np.array( rets[df_col[-1]]).reshape(-1,1), np.array( rets[col]).reshape(-1,1))\n",
    "    if b >= 1:\n",
    "        if col =='MEXBOL':\n",
    "            ls_tipo_accion.append(\"MERCADO\")\n",
    "        else:\n",
    "            ls_tipo_accion.append(\"AGRESIVA\")\n",
    "    else :\n",
    "        ls_tipo_accion.append(\"DEFENSIVA\")        \n",
    "    ls_betas.append(b)\n",
    "\n",
    "print(\"Las betas obtenidas son:\")\n",
    "ls_betas"
   ]
  },
  {
   "cell_type": "markdown",
   "metadata": {},
   "source": [
    "¿Clasifica las acciones en defensivas y agresivas?"
   ]
  },
  {
   "cell_type": "code",
   "execution_count": 19,
   "metadata": {},
   "outputs": [],
   "source": [
    "def CAPM(rf,market,beta):\n",
    "    return rf+(beta*(market-rf))"
   ]
  },
  {
   "cell_type": "code",
   "execution_count": 20,
   "metadata": {},
   "outputs": [
    {
     "name": "stderr",
     "output_type": "stream",
     "text": [
      "C:\\Users\\mb83982\\AppData\\Local\\anaconda3\\lib\\site-packages\\pandas\\core\\generic.py:3946: PerformanceWarning: dropping on a non-lexsorted multi-index without a level parameter may impact performance.\n",
      "  new_axis = axis.drop(labels, errors=errors)\n"
     ]
    },
    {
     "data": {
      "text/html": [
       "<div>\n",
       "<style scoped>\n",
       "    .dataframe tbody tr th:only-of-type {\n",
       "        vertical-align: middle;\n",
       "    }\n",
       "\n",
       "    .dataframe tbody tr th {\n",
       "        vertical-align: top;\n",
       "    }\n",
       "\n",
       "    .dataframe thead th {\n",
       "        text-align: right;\n",
       "    }\n",
       "</style>\n",
       "<table border=\"1\" class=\"dataframe\">\n",
       "  <thead>\n",
       "    <tr style=\"text-align: right;\">\n",
       "      <th></th>\n",
       "      <th>BETAS</th>\n",
       "      <th>TIPO</th>\n",
       "      <th>CAPM</th>\n",
       "      <th>REN_ESP</th>\n",
       "    </tr>\n",
       "  </thead>\n",
       "  <tbody>\n",
       "    <tr>\n",
       "      <td>ALSEA</td>\n",
       "      <td>0.827228</td>\n",
       "      <td>DEFENSIVA</td>\n",
       "      <td>0.091361</td>\n",
       "      <td>0.132723</td>\n",
       "    </tr>\n",
       "    <tr>\n",
       "      <td>WALMEX</td>\n",
       "      <td>0.891598</td>\n",
       "      <td>DEFENSIVA</td>\n",
       "      <td>0.094580</td>\n",
       "      <td>0.139160</td>\n",
       "    </tr>\n",
       "    <tr>\n",
       "      <td>LIVEPOLC</td>\n",
       "      <td>1.002932</td>\n",
       "      <td>AGRESIVA</td>\n",
       "      <td>0.100147</td>\n",
       "      <td>0.150293</td>\n",
       "    </tr>\n",
       "    <tr>\n",
       "      <td>GENTERA</td>\n",
       "      <td>1.010647</td>\n",
       "      <td>AGRESIVA</td>\n",
       "      <td>0.100532</td>\n",
       "      <td>0.151065</td>\n",
       "    </tr>\n",
       "    <tr>\n",
       "      <td>ELEKTRA</td>\n",
       "      <td>0.378219</td>\n",
       "      <td>DEFENSIVA</td>\n",
       "      <td>0.068911</td>\n",
       "      <td>0.087822</td>\n",
       "    </tr>\n",
       "    <tr>\n",
       "      <td>MEGACPO</td>\n",
       "      <td>0.404198</td>\n",
       "      <td>DEFENSIVA</td>\n",
       "      <td>0.070210</td>\n",
       "      <td>0.090420</td>\n",
       "    </tr>\n",
       "    <tr>\n",
       "      <td>GCARSOA1</td>\n",
       "      <td>1.084877</td>\n",
       "      <td>AGRESIVA</td>\n",
       "      <td>0.104244</td>\n",
       "      <td>0.158488</td>\n",
       "    </tr>\n",
       "  </tbody>\n",
       "</table>\n",
       "</div>"
      ],
      "text/plain": [
       "             BETAS       TIPO      CAPM   REN_ESP\n",
       "ALSEA     0.827228  DEFENSIVA  0.091361  0.132723\n",
       "WALMEX    0.891598  DEFENSIVA  0.094580  0.139160\n",
       "LIVEPOLC  1.002932   AGRESIVA  0.100147  0.150293\n",
       "GENTERA   1.010647   AGRESIVA  0.100532  0.151065\n",
       "ELEKTRA   0.378219  DEFENSIVA  0.068911  0.087822\n",
       "MEGACPO   0.404198  DEFENSIVA  0.070210  0.090420\n",
       "GCARSOA1  1.084877   AGRESIVA  0.104244  0.158488"
      ]
     },
     "execution_count": 20,
     "metadata": {},
     "output_type": "execute_result"
    }
   ],
   "source": [
    "#Imprimimos la lista de las columnas\n",
    "arr_betas = np.array(ls_betas).reshape(-1,1)\n",
    "df_betas = pd.DataFrame(data=arr_betas, index=[df_col], columns=[\"BETAS\"])\n",
    "df_betas['TIPO'] = ls_tipo_accion\n",
    "df_betas['CAPM'] = CAPM(rf,market,df_betas[\"BETAS\"])\n",
    "df_betas['REN_ESP'] = rf + df_betas[\"BETAS\"] * market\n",
    "df_betas=df_betas.drop(\"MEXBOL\",axis=0)\n",
    "df_betas"
   ]
  },
  {
   "cell_type": "code",
   "execution_count": 21,
   "metadata": {},
   "outputs": [],
   "source": [
    "#eliminamos la columna de MEXBOL para continuar con los calculos\n",
    "rets = rets.drop(\"MEXBOL\",axis=1)"
   ]
  },
  {
   "cell_type": "code",
   "execution_count": 22,
   "metadata": {},
   "outputs": [
    {
     "data": {
      "text/plain": [
       "7"
      ]
     },
     "execution_count": 22,
     "metadata": {},
     "output_type": "execute_result"
    }
   ],
   "source": [
    "#Actualizamos el valore del number of asets (noa)\n",
    "noa =  len(rets.columns)\n",
    "noa"
   ]
  },
  {
   "cell_type": "markdown",
   "metadata": {},
   "source": [
    "# 2.- Matriz varianza-covarianza"
   ]
  },
  {
   "cell_type": "code",
   "execution_count": 23,
   "metadata": {},
   "outputs": [
    {
     "name": "stdout",
     "output_type": "stream",
     "text": [
      "Matriz covarianza diaria\n"
     ]
    },
    {
     "data": {
      "text/html": [
       "<div>\n",
       "<style scoped>\n",
       "    .dataframe tbody tr th:only-of-type {\n",
       "        vertical-align: middle;\n",
       "    }\n",
       "\n",
       "    .dataframe tbody tr th {\n",
       "        vertical-align: top;\n",
       "    }\n",
       "\n",
       "    .dataframe thead th {\n",
       "        text-align: right;\n",
       "    }\n",
       "</style>\n",
       "<table border=\"1\" class=\"dataframe\">\n",
       "  <thead>\n",
       "    <tr style=\"text-align: right;\">\n",
       "      <th></th>\n",
       "      <th>ALSEA</th>\n",
       "      <th>WALMEX</th>\n",
       "      <th>LIVEPOLC</th>\n",
       "      <th>GENTERA</th>\n",
       "      <th>ELEKTRA</th>\n",
       "      <th>MEGACPO</th>\n",
       "      <th>GCARSOA1</th>\n",
       "    </tr>\n",
       "  </thead>\n",
       "  <tbody>\n",
       "    <tr>\n",
       "      <td>ALSEA</td>\n",
       "      <td>0.000236</td>\n",
       "      <td>0.000058</td>\n",
       "      <td>0.000080</td>\n",
       "      <td>0.000086</td>\n",
       "      <td>0.000032</td>\n",
       "      <td>0.000025</td>\n",
       "      <td>0.000081</td>\n",
       "    </tr>\n",
       "    <tr>\n",
       "      <td>WALMEX</td>\n",
       "      <td>0.000058</td>\n",
       "      <td>0.000216</td>\n",
       "      <td>0.000067</td>\n",
       "      <td>0.000064</td>\n",
       "      <td>0.000028</td>\n",
       "      <td>0.000023</td>\n",
       "      <td>0.000057</td>\n",
       "    </tr>\n",
       "    <tr>\n",
       "      <td>LIVEPOLC</td>\n",
       "      <td>0.000080</td>\n",
       "      <td>0.000067</td>\n",
       "      <td>0.000260</td>\n",
       "      <td>0.000087</td>\n",
       "      <td>0.000031</td>\n",
       "      <td>0.000045</td>\n",
       "      <td>0.000084</td>\n",
       "    </tr>\n",
       "    <tr>\n",
       "      <td>GENTERA</td>\n",
       "      <td>0.000086</td>\n",
       "      <td>0.000064</td>\n",
       "      <td>0.000087</td>\n",
       "      <td>0.000426</td>\n",
       "      <td>0.000034</td>\n",
       "      <td>0.000030</td>\n",
       "      <td>0.000112</td>\n",
       "    </tr>\n",
       "    <tr>\n",
       "      <td>ELEKTRA</td>\n",
       "      <td>0.000032</td>\n",
       "      <td>0.000028</td>\n",
       "      <td>0.000031</td>\n",
       "      <td>0.000034</td>\n",
       "      <td>0.000434</td>\n",
       "      <td>0.000014</td>\n",
       "      <td>0.000052</td>\n",
       "    </tr>\n",
       "    <tr>\n",
       "      <td>MEGACPO</td>\n",
       "      <td>0.000025</td>\n",
       "      <td>0.000023</td>\n",
       "      <td>0.000045</td>\n",
       "      <td>0.000030</td>\n",
       "      <td>0.000014</td>\n",
       "      <td>0.000190</td>\n",
       "      <td>0.000025</td>\n",
       "    </tr>\n",
       "    <tr>\n",
       "      <td>GCARSOA1</td>\n",
       "      <td>0.000081</td>\n",
       "      <td>0.000057</td>\n",
       "      <td>0.000084</td>\n",
       "      <td>0.000112</td>\n",
       "      <td>0.000052</td>\n",
       "      <td>0.000025</td>\n",
       "      <td>0.000360</td>\n",
       "    </tr>\n",
       "  </tbody>\n",
       "</table>\n",
       "</div>"
      ],
      "text/plain": [
       "             ALSEA    WALMEX  LIVEPOLC   GENTERA   ELEKTRA   MEGACPO  GCARSOA1\n",
       "ALSEA     0.000236  0.000058  0.000080  0.000086  0.000032  0.000025  0.000081\n",
       "WALMEX    0.000058  0.000216  0.000067  0.000064  0.000028  0.000023  0.000057\n",
       "LIVEPOLC  0.000080  0.000067  0.000260  0.000087  0.000031  0.000045  0.000084\n",
       "GENTERA   0.000086  0.000064  0.000087  0.000426  0.000034  0.000030  0.000112\n",
       "ELEKTRA   0.000032  0.000028  0.000031  0.000034  0.000434  0.000014  0.000052\n",
       "MEGACPO   0.000025  0.000023  0.000045  0.000030  0.000014  0.000190  0.000025\n",
       "GCARSOA1  0.000081  0.000057  0.000084  0.000112  0.000052  0.000025  0.000360"
      ]
     },
     "execution_count": 23,
     "metadata": {},
     "output_type": "execute_result"
    }
   ],
   "source": [
    "print(\"Matriz covarianza diaria\")\n",
    "cov_mtx = rets.cov()\n",
    "cov_mtx"
   ]
  },
  {
   "cell_type": "code",
   "execution_count": 24,
   "metadata": {},
   "outputs": [
    {
     "name": "stdout",
     "output_type": "stream",
     "text": [
      "Matriz de covarianza anualizada.\n"
     ]
    },
    {
     "data": {
      "text/html": [
       "<div>\n",
       "<style scoped>\n",
       "    .dataframe tbody tr th:only-of-type {\n",
       "        vertical-align: middle;\n",
       "    }\n",
       "\n",
       "    .dataframe tbody tr th {\n",
       "        vertical-align: top;\n",
       "    }\n",
       "\n",
       "    .dataframe thead th {\n",
       "        text-align: right;\n",
       "    }\n",
       "</style>\n",
       "<table border=\"1\" class=\"dataframe\">\n",
       "  <thead>\n",
       "    <tr style=\"text-align: right;\">\n",
       "      <th></th>\n",
       "      <th>ALSEA</th>\n",
       "      <th>WALMEX</th>\n",
       "      <th>LIVEPOLC</th>\n",
       "      <th>GENTERA</th>\n",
       "      <th>ELEKTRA</th>\n",
       "      <th>MEGACPO</th>\n",
       "      <th>GCARSOA1</th>\n",
       "    </tr>\n",
       "  </thead>\n",
       "  <tbody>\n",
       "    <tr>\n",
       "      <td>ALSEA</td>\n",
       "      <td>0.059537</td>\n",
       "      <td>0.014589</td>\n",
       "      <td>0.020244</td>\n",
       "      <td>0.021743</td>\n",
       "      <td>0.008162</td>\n",
       "      <td>0.006385</td>\n",
       "      <td>0.020292</td>\n",
       "    </tr>\n",
       "    <tr>\n",
       "      <td>WALMEX</td>\n",
       "      <td>0.014589</td>\n",
       "      <td>0.054454</td>\n",
       "      <td>0.016829</td>\n",
       "      <td>0.016238</td>\n",
       "      <td>0.007163</td>\n",
       "      <td>0.005766</td>\n",
       "      <td>0.014444</td>\n",
       "    </tr>\n",
       "    <tr>\n",
       "      <td>LIVEPOLC</td>\n",
       "      <td>0.020244</td>\n",
       "      <td>0.016829</td>\n",
       "      <td>0.065645</td>\n",
       "      <td>0.022007</td>\n",
       "      <td>0.007799</td>\n",
       "      <td>0.011279</td>\n",
       "      <td>0.021216</td>\n",
       "    </tr>\n",
       "    <tr>\n",
       "      <td>GENTERA</td>\n",
       "      <td>0.021743</td>\n",
       "      <td>0.016238</td>\n",
       "      <td>0.022007</td>\n",
       "      <td>0.107366</td>\n",
       "      <td>0.008496</td>\n",
       "      <td>0.007616</td>\n",
       "      <td>0.028242</td>\n",
       "    </tr>\n",
       "    <tr>\n",
       "      <td>ELEKTRA</td>\n",
       "      <td>0.008162</td>\n",
       "      <td>0.007163</td>\n",
       "      <td>0.007799</td>\n",
       "      <td>0.008496</td>\n",
       "      <td>0.109321</td>\n",
       "      <td>0.003477</td>\n",
       "      <td>0.013206</td>\n",
       "    </tr>\n",
       "    <tr>\n",
       "      <td>MEGACPO</td>\n",
       "      <td>0.006385</td>\n",
       "      <td>0.005766</td>\n",
       "      <td>0.011279</td>\n",
       "      <td>0.007616</td>\n",
       "      <td>0.003477</td>\n",
       "      <td>0.047836</td>\n",
       "      <td>0.006352</td>\n",
       "    </tr>\n",
       "    <tr>\n",
       "      <td>GCARSOA1</td>\n",
       "      <td>0.020292</td>\n",
       "      <td>0.014444</td>\n",
       "      <td>0.021216</td>\n",
       "      <td>0.028242</td>\n",
       "      <td>0.013206</td>\n",
       "      <td>0.006352</td>\n",
       "      <td>0.090802</td>\n",
       "    </tr>\n",
       "  </tbody>\n",
       "</table>\n",
       "</div>"
      ],
      "text/plain": [
       "             ALSEA    WALMEX  LIVEPOLC   GENTERA   ELEKTRA   MEGACPO  GCARSOA1\n",
       "ALSEA     0.059537  0.014589  0.020244  0.021743  0.008162  0.006385  0.020292\n",
       "WALMEX    0.014589  0.054454  0.016829  0.016238  0.007163  0.005766  0.014444\n",
       "LIVEPOLC  0.020244  0.016829  0.065645  0.022007  0.007799  0.011279  0.021216\n",
       "GENTERA   0.021743  0.016238  0.022007  0.107366  0.008496  0.007616  0.028242\n",
       "ELEKTRA   0.008162  0.007163  0.007799  0.008496  0.109321  0.003477  0.013206\n",
       "MEGACPO   0.006385  0.005766  0.011279  0.007616  0.003477  0.047836  0.006352\n",
       "GCARSOA1  0.020292  0.014444  0.021216  0.028242  0.013206  0.006352  0.090802"
      ]
     },
     "execution_count": 24,
     "metadata": {},
     "output_type": "execute_result"
    }
   ],
   "source": [
    "print(\"Matriz de covarianza anualizada.\")\n",
    "cov_mtx_anual = rets.cov() * 252\n",
    "cov_mtx_anual"
   ]
  },
  {
   "cell_type": "code",
   "execution_count": 25,
   "metadata": {},
   "outputs": [
    {
     "data": {
      "text/plain": [
       "array([0.00023626, 0.00021609, 0.0002605 , 0.00042606, 0.00043381,\n",
       "       0.00018983, 0.00036033])"
      ]
     },
     "execution_count": 25,
     "metadata": {},
     "output_type": "execute_result"
    }
   ],
   "source": [
    "#Obtenemos la diagonal de la matriz de covarianza\n",
    "mtx_diagonal = np.diagonal(cov_mtx)\n",
    "mtx_diagonal"
   ]
  },
  {
   "cell_type": "markdown",
   "metadata": {},
   "source": [
    "# 3.- Frontera de carteras de mínima varianza y frontera eficiente "
   ]
  },
  {
   "cell_type": "code",
   "execution_count": 26,
   "metadata": {},
   "outputs": [
    {
     "name": "stdout",
     "output_type": "stream",
     "text": [
      "Los rendimientos esperados son:\n"
     ]
    },
    {
     "data": {
      "text/plain": [
       "array([0.1327228 , 0.13915984, 0.15029319, 0.15106473, 0.08782192,\n",
       "       0.09041981, 0.15848765])"
      ]
     },
     "execution_count": 26,
     "metadata": {},
     "output_type": "execute_result"
    }
   ],
   "source": [
    "#obtenemos las betas previamente generadas\n",
    "print(\"Los rendimientos esperados son:\")\n",
    "rend_esp = np.array(df_betas[\"REN_ESP\"])\n",
    "rend_esp"
   ]
  },
  {
   "cell_type": "markdown",
   "metadata": {},
   "source": [
    "### Grafica con ventas en corto"
   ]
  },
  {
   "cell_type": "code",
   "execution_count": 27,
   "metadata": {},
   "outputs": [],
   "source": [
    "#Guarda rendimiento del portafolio\n",
    "ls_rendimientos = []\n",
    "ls_varianza = []\n",
    "ls_Sharpe = []\n",
    "ls_Pesos = []\n",
    "\n",
    "#Simulación de Portafolios\n",
    "itera = 500_000\n",
    "\n",
    "#Pesos con venta en corto\n",
    "array_pesos = np.zeros(shape=[itera,noa])\n",
    "\n",
    "for t in range(len(array_pesos)):\n",
    "    for i in range(noa):\n",
    "        array_pesos[t][i] = random.randrange(start = -10000, stop = 10000)/10000\n",
    "        \n",
    "for i in range(len(array_pesos)):\n",
    "    array_pesos[i][noa-1] = 1 - (array_pesos[i][0:noa-1].sum())    "
   ]
  },
  {
   "cell_type": "code",
   "execution_count": 28,
   "metadata": {},
   "outputs": [],
   "source": [
    "for val in range(itera):    \n",
    "    #Pesos \n",
    "    pesos = array_pesos[val]    \n",
    "    #Rendimiento\n",
    "    rendimientos = np.dot(pesos, rend_esp)    \n",
    "    #Varianza\n",
    "    varianza = np.sqrt(np.dot(pesos.T, np.dot(cov_mtx, pesos)))*252\n",
    "    #Sharpe\n",
    "    sharpe = rendimientos  / (varianza)\n",
    "    \n",
    "    #Guarda los valores en las listas \n",
    "    ls_Sharpe.append(sharpe)\n",
    "    ls_rendimientos.append(rendimientos)\n",
    "    ls_varianza.append(varianza)\n",
    "    ls_Pesos.append(pesos)"
   ]
  },
  {
   "cell_type": "code",
   "execution_count": 29,
   "metadata": {},
   "outputs": [],
   "source": [
    "# Transforma listas en dataFrame\n",
    "detalle_p = {'Rendimientos': ls_rendimientos,'Varianza': ls_varianza,'Val_Sharpe': ls_Sharpe}\n",
    "\n",
    "for i, col in enumerate(rets.columns):\n",
    "    detalle_p[col ] = [j[i] for j in ls_Pesos]    \n",
    "\n",
    "df_cvc = pd.DataFrame(detalle_p)"
   ]
  },
  {
   "cell_type": "code",
   "execution_count": 30,
   "metadata": {},
   "outputs": [
    {
     "name": "stdout",
     "output_type": "stream",
     "text": [
      "Portafolio con la minima varianza es: \n",
      "        Rendimientos  Varianza  Val_Sharpe   ALSEA  WALMEX  LIVEPOLC  GENTERA  \\\n",
      "247345      0.116576  2.281074    0.051106  0.2472  0.1924    0.0906    0.061   \n",
      "\n",
      "        ELEKTRA  MEGACPO  GCARSOA1  \n",
      "247345   0.1645   0.2792   -0.0349  \n",
      "--------------------------------------------------\n",
      "El portafolio riesgozo es: \n",
      "        Rendimientos  Varianza  Val_Sharpe   ALSEA  WALMEX  LIVEPOLC  GENTERA  \\\n",
      "467913      0.126486  2.296465    0.055079  0.0764  0.3223    0.0816   0.0514   \n",
      "\n",
      "        ELEKTRA  MEGACPO  GCARSOA1  \n",
      "467913   0.1146   0.2153    0.1384  \n"
     ]
    }
   ],
   "source": [
    "# Imprime portafolio de mínima varianza y portafolio que max Coef Sharpe\n",
    "var_min    = df_cvc['Varianza'].min()\n",
    "sharp_max  = df_cvc['Val_Sharpe'].max()\n",
    "\n",
    "#Crea portafolios\n",
    "p_riesgoso = df_cvc.loc[df_cvc['Val_Sharpe'] == sharp_max]\n",
    "p_min_Var = df_cvc.loc[df_cvc['Varianza'] == var_min]\n",
    "\n",
    "print(\"Portafolio con la minima varianza es: \")\n",
    "print(p_min_Var)\n",
    "print('-' * 50)\n",
    "print(\"El portafolio riesgozo es: \")\n",
    "print(p_riesgoso)\n"
   ]
  },
  {
   "cell_type": "code",
   "execution_count": 31,
   "metadata": {},
   "outputs": [
    {
     "data": {
      "text/plain": [
       "<matplotlib.colorbar.Colorbar at 0x10e9ca26d88>"
      ]
     },
     "execution_count": 31,
     "metadata": {},
     "output_type": "execute_result"
    },
    {
     "data": {
      "image/png": "[encoded data removed]",
      "text/plain": [
       "<Figure size 720x432 with 2 Axes>"
      ]
     },
     "metadata": {
      "needs_background": "light"
     },
     "output_type": "display_data"
    }
   ],
   "source": [
    "#Generamos el grafico de las simulaciones \n",
    "plt.figure(figsize=(10, 6))\n",
    "plt.scatter(x=df_cvc['Varianza'], y=df_cvc['Rendimientos'], \n",
    "            c=df_cvc['Rendimientos'] / df_cvc['Varianza'], marker='.')\n",
    "#portafolio riesgozo\n",
    "plt.scatter(x=p_riesgoso['Varianza'], y=p_riesgoso['Rendimientos'], \n",
    "            c='red', marker='D')\n",
    "#minima varianza\n",
    "plt.scatter(x=p_min_Var['Varianza'], y=p_min_Var['Rendimientos'], \n",
    "            c='blue', marker='D')\n",
    "plt.grid(True)\n",
    "plt.xlabel('Sigma')\n",
    "plt.ylabel('E')\n",
    "plt.colorbar(label='Sharpe ratio')"
   ]
  },
  {
   "cell_type": "markdown",
   "metadata": {},
   "source": [
    "### Grafica Sin ventas en corto"
   ]
  },
  {
   "cell_type": "code",
   "execution_count": 32,
   "metadata": {},
   "outputs": [],
   "source": [
    "#Funcion para obtener los pesos\n",
    "np.random.seed(54321)\n",
    "\n",
    "def get_weights():    \n",
    "    weights = np.random.random(noa)\n",
    "    weights /= np.sum(weights)\n",
    "    return weights"
   ]
  },
  {
   "cell_type": "code",
   "execution_count": 33,
   "metadata": {},
   "outputs": [
    {
     "data": {
      "text/plain": [
       "array([0.23995812, 0.16420046, 0.20841516, 0.11312608, 0.14292951,\n",
       "       0.10882869, 0.02254198])"
      ]
     },
     "execution_count": 33,
     "metadata": {},
     "output_type": "execute_result"
    }
   ],
   "source": [
    "#obtenemos los primeros pesos\n",
    "weights =  get_weights()\n",
    "weights"
   ]
  },
  {
   "cell_type": "code",
   "execution_count": 34,
   "metadata": {},
   "outputs": [
    {
     "name": "stdout",
     "output_type": "stream",
     "text": [
      "Retornos esperados del portafolio:  -0.0015052911071630043\n",
      "La variacion esperada del portafilio es: 0.0228840467226642\n",
      "La desviciaon estandart (Volatilidad) del portafolio es:  0.15127473920871323\n"
     ]
    }
   ],
   "source": [
    "#Retornos esperados del portafolio anualizados\n",
    "rets_portaf = np.sum(rets.mean() * weights) * 252\n",
    "print(\"Retornos esperados del portafolio: \",rets_portaf)\n",
    "#Variacion esperada del portafolio anualizados\n",
    "var_portaf=np.dot(weights.T, np.dot(rets.cov() * 252, weights))\n",
    "print(\"La variacion esperada del portafilio es:\", var_portaf)\n",
    "#Desviacion estandart del portafolio  anualizados\n",
    "desv_std = np.sqrt(var_portaf)\n",
    "print(\"La desviciaon estandart (Volatilidad) del portafolio es: \", desv_std)"
   ]
  },
  {
   "cell_type": "code",
   "execution_count": 35,
   "metadata": {},
   "outputs": [],
   "source": [
    "#generamos los portafolios aleatorios \n",
    "prets = []\n",
    "pvols = []\n",
    "sharpe = []\n",
    "pesos = []\n",
    "\n",
    "for p in range (100_000):    \n",
    "    weights= get_weights()\n",
    "    \n",
    "    rendimiento = np.dot(weights,rend_esp)\n",
    "    varianza =  np.sqrt(np.dot(weights.T,np.dot(cov_mtx, weights))) * 252\n",
    "    c_sharpe = rendimiento / varianza\n",
    "    \n",
    "    prets.append(rendimiento)    \n",
    "    pvols.append(varianza)\n",
    "    sharpe.append(c_sharpe)\n",
    "    pesos.append(weights)\n",
    "    \n",
    "prets = np.array(prets)\n",
    "pvols = np.array(pvols)\n",
    "sharpe = np.array(sharpe)"
   ]
  },
  {
   "cell_type": "code",
   "execution_count": 36,
   "metadata": {},
   "outputs": [],
   "source": [
    "# Transforma listas en dataFrame\n",
    "dict_P = {'Rendimientos': prets,'Varianza': pvols,'val_Sharpe': sharpe}\n",
    "\n",
    "for i, k_nombre in enumerate(rets.columns):\n",
    "    dict_P[k_nombre] = [j[i] for j in pesos]\n",
    "df_svc = pd.DataFrame(dict_P)\n",
    "#df_svc.head()"
   ]
  },
  {
   "cell_type": "code",
   "execution_count": 37,
   "metadata": {},
   "outputs": [],
   "source": [
    "min_volatility = df_svc['Varianza'].min()\n",
    "max_sharpe = df_svc['val_Sharpe'].max()\n",
    "#selecciona portafolios\n",
    "p_riesgoso = df_svc.loc[df_svc['val_Sharpe'] == max_sharpe]\n",
    "p_min_Var = df_svc.loc[df_svc['Varianza'] == min_volatility]\n"
   ]
  },
  {
   "cell_type": "code",
   "execution_count": 38,
   "metadata": {},
   "outputs": [
    {
     "data": {
      "text/plain": [
       "<matplotlib.colorbar.Colorbar at 0x10ea5735408>"
      ]
     },
     "execution_count": 38,
     "metadata": {},
     "output_type": "execute_result"
    },
    {
     "data": {
      "image/png": "[encoded data removed]",
      "text/plain": [
       "<Figure size 720x432 with 2 Axes>"
      ]
     },
     "metadata": {
      "needs_background": "light"
     },
     "output_type": "display_data"
    }
   ],
   "source": [
    "plt.figure(figsize=(10, 6))\n",
    "plt.scatter(x=df_svc['Varianza'], y=df_svc['Rendimientos'], \n",
    "            c=df_svc['Rendimientos'] / df_svc['Varianza'], marker='.',alpha=.5)\n",
    "#portafolio riesgozo\n",
    "plt.scatter(x=p_riesgoso['Varianza'], y=p_riesgoso['Rendimientos'], \n",
    "            c='red', marker='D')\n",
    "#minima varianza\n",
    "plt.scatter(x=p_min_Var['Varianza'], y=p_min_Var['Rendimientos'], \n",
    "            c='blue', marker='D')\n",
    "plt.grid(True)\n",
    "plt.xlabel('Volatilidad esperada')\n",
    "plt.ylabel('Retornos esperados')\n",
    "plt.colorbar(label='Sharpe ratio')"
   ]
  },
  {
   "cell_type": "markdown",
   "metadata": {},
   "source": [
    "### Grafica con puntos de la frontera eficiente *"
   ]
  },
  {
   "cell_type": "markdown",
   "metadata": {},
   "source": [
    "* Bibliografia:\n",
    "Python para Finanzas\n",
    "Yves Hilpisch\n",
    "Publicado por O'Reilly Media, Inc., 2014\n",
    "Capitulo II - seccion Statistics"
   ]
  },
  {
   "cell_type": "code",
   "execution_count": 39,
   "metadata": {},
   "outputs": [],
   "source": [
    "def statistics(weights):\n",
    "    ''' Parámetros\n",
    "    ==========\n",
    "    pesos: en forma de matriz\n",
    "     ponderaciones para diferentes valores en cartera\n",
    "\n",
    "    Devoluciones\n",
    "    =======\n",
    "    pret: flotador\n",
    "     rendimiento esperado de la cartera\n",
    "    pvol: flotador\n",
    "     volatilidad esperada de la cartera\n",
    "    pret / pvol: flotador\n",
    "     Relación de Sharpe para rf = ..5\n",
    "     '''\n",
    "    \n",
    "    weights = np.array(weights)\n",
    "    pret = np.dot(weights,rend_esp)\n",
    "    pvol = np.sqrt(np.dot(weights.T, np.dot(cov_mtx, weights))) * 252\n",
    "    return np.array([pret, pvol, pret  / pvol])"
   ]
  },
  {
   "cell_type": "code",
   "execution_count": 40,
   "metadata": {},
   "outputs": [],
   "source": [
    "def min_func_sharpe(weights):\n",
    "    return -statistics(weights)[2]"
   ]
  },
  {
   "cell_type": "code",
   "execution_count": 41,
   "metadata": {},
   "outputs": [
    {
     "name": "stdout",
     "output_type": "stream",
     "text": [
      "{'type': 'eq', 'fun': <function <lambda> at 0x0000010EA5C02798>}\n",
      "((0, 1), (0, 1), (0, 1), (0, 1), (0, 1), (0, 1), (0, 1))\n"
     ]
    }
   ],
   "source": [
    "#restriccion\n",
    "cons = ({'type': 'eq', 'fun': lambda x:  np.sum(x) - 1})\n",
    "print(cons)\n",
    "bnds = tuple((0, 1) for x in range(noa))\n",
    "print(bnds)"
   ]
  },
  {
   "cell_type": "code",
   "execution_count": 42,
   "metadata": {},
   "outputs": [
    {
     "name": "stdout",
     "output_type": "stream",
     "text": [
      "Wall time: 0 ns\n"
     ]
    },
    {
     "data": {
      "text/plain": [
       "     fun: -0.0566945517246346\n",
       "     jac: array([ 8.62968154e-05, -9.32570547e-05,  1.47913117e-04, -1.28897373e-04,\n",
       "        8.77426937e-05,  2.70819291e-05, -1.14836264e-04])\n",
       " message: 'Optimization terminated successfully.'\n",
       "    nfev: 63\n",
       "     nit: 7\n",
       "    njev: 7\n",
       "  status: 0\n",
       " success: True\n",
       "       x: array([0.14852975, 0.23914536, 0.15722199, 0.07665038, 0.06490623,\n",
       "       0.18617417, 0.12737213])"
      ]
     },
     "execution_count": 42,
     "metadata": {},
     "output_type": "execute_result"
    }
   ],
   "source": [
    "#Optimizamos el portafolio\n",
    "%time\n",
    "opts = sco.minimize(min_func_sharpe, noa * [1. / noa,], method='SLSQP',bounds=bnds, constraints=cons)\n",
    "opts"
   ]
  },
  {
   "cell_type": "code",
   "execution_count": 43,
   "metadata": {},
   "outputs": [],
   "source": [
    "cons = ({'type': 'eq', 'fun': lambda x:  statistics(x)[0] - tret},\n",
    "        {'type': 'eq', 'fun': lambda x:  np.sum(x) - 1})\n",
    "bnds = tuple((0, 1) for x in weights)"
   ]
  },
  {
   "cell_type": "code",
   "execution_count": 44,
   "metadata": {},
   "outputs": [],
   "source": [
    "def min_func_port(weights):\n",
    "    return statistics(weights)[1]"
   ]
  },
  {
   "cell_type": "code",
   "execution_count": 45,
   "metadata": {},
   "outputs": [],
   "source": [
    "def min_func_variance(weights):\n",
    "    return statistics(weights)[1] ** 2"
   ]
  },
  {
   "cell_type": "code",
   "execution_count": 46,
   "metadata": {},
   "outputs": [
    {
     "name": "stdout",
     "output_type": "stream",
     "text": [
      "Wall time: 125 ms\n"
     ]
    }
   ],
   "source": [
    "%%time\n",
    "trets = np.linspace(0.11, 0.155, 20)\n",
    "tvols = []\n",
    "for tret in trets:\n",
    "    cons = ({'type': 'eq', 'fun': lambda x:  statistics(x)[0] - tret},\n",
    "            {'type': 'eq', 'fun': lambda x:  np.sum(x) - 1})\n",
    "    #aplicamos la funcion de optimizacion (funcion Solver en Excel)\n",
    "    res = sco.minimize(min_func_port, noa * [1. / noa,], method='SLSQP',\n",
    "                    bounds=bnds, constraints=cons)\n",
    "    tvols.append(res['fun'])\n",
    "tvols = np.array(tvols)"
   ]
  },
  {
   "cell_type": "code",
   "execution_count": 47,
   "metadata": {},
   "outputs": [
    {
     "data": {
      "text/plain": [
       "     fun: 12.58907295642003\n",
       "     jac: array([10.32016361,  7.7661401 , 17.49624264, 18.75546753,  5.50901532,\n",
       "        4.03722239, 30.87027884])\n",
       " message: 'Optimization terminated successfully.'\n",
       "    nfev: 46\n",
       "     nit: 5\n",
       "    njev: 5\n",
       "  status: 0\n",
       " success: True\n",
       "       x: array([3.79101105e-14, 1.44226414e-13, 3.01388662e-01, 1.37133773e-01,\n",
       "       0.00000000e+00, 1.61467768e-13, 5.61477565e-01])"
      ]
     },
     "execution_count": 47,
     "metadata": {},
     "output_type": "execute_result"
    }
   ],
   "source": [
    "optv = sco.minimize(min_func_variance, noa * [1. / noa,],\n",
    "                method='SLSQP', bounds=bnds,\n",
    "                constraints=cons)\n",
    "optv"
   ]
  },
  {
   "cell_type": "code",
   "execution_count": 48,
   "metadata": {},
   "outputs": [
    {
     "data": {
      "text/plain": [
       "<matplotlib.colorbar.Colorbar at 0x10ea57d4708>"
      ]
     },
     "execution_count": 48,
     "metadata": {},
     "output_type": "execute_result"
    },
    {
     "data": {
      "image/png": "[encoded data removed]",
      "text/plain": [
       "<Figure size 720x432 with 2 Axes>"
      ]
     },
     "metadata": {
      "needs_background": "light"
     },
     "output_type": "display_data"
    }
   ],
   "source": [
    "plt.figure(figsize=(10, 6))\n",
    "# composición de cartera aleatoria\n",
    "plt.scatter(pvols, prets, c=prets / pvols, marker='.')\n",
    "# frontera eficiente\n",
    "plt.scatter(tvols, trets, c='g', marker='x')\n",
    "# portfolio with highest Sharpe ratio\n",
    "plt.plot(statistics(opts['x'])[1], statistics(opts['x'])[0],'r*', markersize=15.0)\n",
    "# minimum variance portfolio\n",
    "plt.plot(statistics(optv['x'])[1], statistics(optv['x'])[0], 'y*', markersize=15.0)\n",
    "         \n",
    "plt.grid(True)\n",
    "plt.xlabel('Volatilidad Esperada')\n",
    "plt.ylabel('Retornos esperados')\n",
    "plt.colorbar(label='Sharpe ratio')"
   ]
  },
  {
   "cell_type": "code",
   "execution_count": 49,
   "metadata": {},
   "outputs": [],
   "source": [
    "#obtenemos los portafolios de la frontera eficiente\n",
    "ind = np.argmin(tvols)\n",
    "evols = tvols[ind:]\n",
    "erets = trets[ind:]\n",
    "\n",
    "#se realiza la interpolacion\n",
    "tck = sci.splrep(evols, erets)"
   ]
  },
  {
   "cell_type": "code",
   "execution_count": 50,
   "metadata": {},
   "outputs": [],
   "source": [
    "def f(x):\n",
    "    ''' Función de frontera eficiente (aproximación de splines).'''\n",
    "    return sci.splev(x, tck, der=0)\n",
    "def df(x):\n",
    "    ''' Primera derivada de la función de frontera eficiente.'''\n",
    "    return sci.splev(x, tck, der=1)"
   ]
  },
  {
   "cell_type": "code",
   "execution_count": 51,
   "metadata": {},
   "outputs": [],
   "source": [
    "def equations(p, rf=0.05):\n",
    "    eq1 = rf - p[0]\n",
    "    eq2 = rf + p[1] * p[2] - f(p[2]) +.01\n",
    "    eq3 = p[1] - df(p[2])\n",
    "    return eq1, eq2, eq3"
   ]
  },
  {
   "cell_type": "code",
   "execution_count": 52,
   "metadata": {},
   "outputs": [
    {
     "name": "stderr",
     "output_type": "stream",
     "text": [
      "C:\\Users\\mb83982\\AppData\\Local\\anaconda3\\lib\\site-packages\\scipy\\optimize\\minpack.py:162: RuntimeWarning: The iteration is not making good progress, as measured by the \n",
      "  improvement from the last five Jacobian evaluations.\n",
      "  warnings.warn(msg, RuntimeWarning)\n"
     ]
    },
    {
     "data": {
      "text/plain": [
       "array([0.05      , 0.03616231, 2.22327168])"
      ]
     },
     "execution_count": 52,
     "metadata": {},
     "output_type": "execute_result"
    }
   ],
   "source": [
    "opt = sco.fsolve(equations, [.05, 300, .05])\n",
    "opt"
   ]
  },
  {
   "cell_type": "code",
   "execution_count": 53,
   "metadata": {},
   "outputs": [
    {
     "data": {
      "text/plain": [
       "<matplotlib.colorbar.Colorbar at 0x10ea58c3308>"
      ]
     },
     "execution_count": 53,
     "metadata": {},
     "output_type": "execute_result"
    },
    {
     "data": {
      "image/png": "[encoded data removed]",
      "text/plain": [
       "<Figure size 576x288 with 2 Axes>"
      ]
     },
     "metadata": {
      "needs_background": "light"
     },
     "output_type": "display_data"
    }
   ],
   "source": [
    "plt.figure(figsize=(8, 4))\n",
    "\n",
    "# random portfolio composition\n",
    "plt.scatter(pvols, prets,c=(prets ) / pvols, marker='.')  \n",
    "\n",
    "# efficient frontier\n",
    "plt.plot(evols, erets, 'g', lw=4.0)\n",
    "\n",
    "# capital market line\n",
    "cx = np.linspace(0.0, 3)\n",
    "plt.plot(cx, opt[0] + opt[1]  * cx   , lw=2)\n",
    "         \n",
    "plt.plot(opt[2], f(opt[2]), 'r*', markersize=15.0)\n",
    "plt.grid(True)\n",
    "plt.axhline(0, color='k', ls='--', lw=2.0)\n",
    "plt.axvline(0, color='k', ls='--', lw=2.0)\n",
    "plt.xlabel('Volatilidad Esperada')\n",
    "plt.ylabel('Retornos esperados')\n",
    "plt.colorbar(label='Sharpe ratio')"
   ]
  },
  {
   "cell_type": "markdown",
   "metadata": {},
   "source": [
    "# 4.- Encuentra el portafolio riesgoso óptimo (maximiza el coeficiente de Sharpe)"
   ]
  },
  {
   "cell_type": "markdown",
   "metadata": {},
   "source": [
    "Minimizamos la varianza de la cartera"
   ]
  },
  {
   "cell_type": "code",
   "execution_count": 54,
   "metadata": {},
   "outputs": [
    {
     "name": "stdout",
     "output_type": "stream",
     "text": [
      "Portafolio con la minima varianza es: \n",
      "       Rendimientos  Varianza  val_Sharpe     ALSEA    WALMEX  LIVEPOLC  \\\n",
      "85791      0.121112  2.211023    0.054776  0.172471  0.196382  0.093626   \n",
      "\n",
      "        GENTERA   ELEKTRA   MEGACPO  GCARSOA1  \n",
      "85791  0.044141  0.115663  0.291888  0.085828  \n",
      "--------------------------------------------------\n",
      "El portafolio riesgozo es: \n",
      "       Rendimientos  Varianza  val_Sharpe     ALSEA    WALMEX  LIVEPOLC  \\\n",
      "61805      0.131495  2.322781    0.056611  0.147268  0.245138  0.139943   \n",
      "\n",
      "        GENTERA  ELEKTRA  MEGACPO  GCARSOA1  \n",
      "61805  0.069586  0.06454  0.17977  0.153755  \n"
     ]
    }
   ],
   "source": [
    "print(\"Portafolio con la minima varianza es: \")\n",
    "print(p_min_Var)\n",
    "print('-' * 50)\n",
    "print(\"El portafolio riesgozo es: \")\n",
    "print(p_riesgoso)"
   ]
  },
  {
   "cell_type": "markdown",
   "metadata": {},
   "source": [
    "# 5.- Calcula el VaR paramétrico del portafolio riesgoso óptimo (1 día, 95% de confianza)"
   ]
  },
  {
   "cell_type": "code",
   "execution_count": 55,
   "metadata": {},
   "outputs": [
    {
     "name": "stdout",
     "output_type": "stream",
     "text": [
      "VaR Anual : $250,686.77\n",
      "VaR Diario : $15,791.78\n",
      "Diversificación anual : $138,193.95\n",
      "Diversificación diaria : $15,345.38\n"
     ]
    }
   ],
   "source": [
    "S = 1_000_000\n",
    "confianza = 0.95\n",
    "F = norm.ppf(confianza)\n",
    "\n",
    "d_anual = np.sqrt(p_riesgoso['Varianza']/100)\n",
    "std_diaria = np.sqrt(p_riesgoso['Varianza']/(100*252))\n",
    "\n",
    "var_anual = S * F * d_anual\n",
    "var_diario = S * F * std_diaria\n",
    "\n",
    "pesos = np.array(p_riesgoso)[0][-7:]\n",
    "Vector_pos = pesos * S\n",
    "\n",
    "vaR_activos_diaria = Vector_pos * F * mtx_diagonal\n",
    "vaR_activos_anual = Vector_pos * F * (mtx_diagonal * 252)\n",
    "\n",
    "diversificacion_a = abs(var_anual - vaR_activos_anual.sum())\n",
    "diversificacion_d = abs(var_diario - vaR_activos_diaria.sum())\n",
    "\n",
    "print(\"VaR Anual :\", '${:,.2f}'.format(var_anual.to_numpy()[0]))\n",
    "print(\"VaR Diario :\", '${:,.2f}'.format(var_diario.to_numpy()[0]))\n",
    "print(\"Diversificación anual :\", '${:,.2f}'.format(diversificacion_a.to_numpy()[0]))\n",
    "print(\"Diversificación diaria :\", '${:,.2f}'.format(diversificacion_d.to_numpy()[0]))\n"
   ]
  },
  {
   "cell_type": "markdown",
   "metadata": {},
   "source": [
    "# 6.- BONUS POINT"
   ]
  },
  {
   "cell_type": "markdown",
   "metadata": {},
   "source": [
    "Elige los porcentajes a invertir en el portafolio riesgoso óptimo y el activo libre de riesgo (maximizar la función de utilidad)"
   ]
  },
  {
   "cell_type": "code",
   "execution_count": 56,
   "metadata": {},
   "outputs": [
    {
     "name": "stdout",
     "output_type": "stream",
     "text": [
      "El valor de y* es: 116.95%\n"
     ]
    }
   ],
   "source": [
    "Erp = p_riesgoso['Rendimientos'].to_numpy()[0]\n",
    "p_sigma = np.sqrt(p_riesgoso['Varianza'].to_numpy()[0]/100)\n",
    "y = ( Erp - rf) / (A * (p_sigma**2))\n",
    "print(\"El valor de y* es: {:.2%}\".format(y) )"
   ]
  },
  {
   "cell_type": "code",
   "execution_count": null,
   "metadata": {},
   "outputs": [],
   "source": []
  }
 ],
 "metadata": {
  "kernelspec": {
   "display_name": "Python 3",
   "language": "python",
   "name": "python3"
  },
  "language_info": {
   "codemirror_mode": {
    "name": "ipython",
    "version": 3
   },
   "file_extension": ".py",
   "mimetype": "text/x-python",
   "name": "python",
   "nbconvert_exporter": "python",
   "pygments_lexer": "ipython3",
   "version": "3.7.4"
  }
 },
 "nbformat": 4,
 "nbformat_minor": 4
}
